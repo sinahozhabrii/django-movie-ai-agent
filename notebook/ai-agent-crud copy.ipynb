{
 "cells": [
  {
   "cell_type": "code",
   "execution_count": 2,
   "id": "cb589ef8",
   "metadata": {},
   "outputs": [],
   "source": [
    "import setup\n",
    "setup.init()"
   ]
  },
  {
   "cell_type": "code",
   "execution_count": 3,
   "id": "09535689",
   "metadata": {},
   "outputs": [],
   "source": [
    "from ai.agents import get_document_agent"
   ]
  },
  {
   "cell_type": "code",
   "execution_count": 4,
   "id": "4c5a7c78",
   "metadata": {},
   "outputs": [],
   "source": [
    "from langgraph.checkpoint.memory import InMemorySaver\n",
    "import uuid\n",
    "checkpointer = InMemorySaver()"
   ]
  },
  {
   "cell_type": "code",
   "execution_count": 5,
   "id": "a874d31b",
   "metadata": {},
   "outputs": [],
   "source": [
    "agent = get_document_agent(checkpointer)"
   ]
  },
  {
   "cell_type": "code",
   "execution_count": 6,
   "id": "3d90f031",
   "metadata": {},
   "outputs": [],
   "source": [
    "config = {'configurable' : {'user_id':1 , 'thread_id':uuid.uuid4}}"
   ]
  },
  {
   "cell_type": "code",
   "execution_count": 7,
   "id": "81a5734f",
   "metadata": {},
   "outputs": [
    {
     "name": "stdout",
     "output_type": "stream",
     "text": [
      " give me all my documents \n",
      "\n",
      "[{\"id\": 14, \"title\": \"LOTR\"}, {\"id\": 4, \"title\": \"doc 4\"}, {\"id\": 3, \"title\": \"doc 3\"}, {\"id\": 2, \"title\": \"doc 2\"}, {\"id\": 1, \"title\": \"Title\"}]\n",
      "Here are your recent documents:\n",
      "\n",
      "1. LOTR\n",
      "2. doc 4\n",
      "3. doc 3\n",
      "4. doc 2\n",
      "5. Title\n",
      "\n",
      "If you want details or content from any specific document, let me know which one you'd like to view or manage!\n"
     ]
    }
   ],
   "source": [
    "response = agent.invoke({\"messages\": [{\"role\": \"user\", \"content\": \" give me all my documents \"}]},config)\n",
    "\n",
    "for msg in response['messages']:\n",
    "    print(msg.content)"
   ]
  },
  {
   "cell_type": "code",
   "execution_count": null,
   "id": "cf119f01",
   "metadata": {},
   "outputs": [],
   "source": [
    "response = agent.invoke({\"messages\": [{\"role\": \"user\", \"content\": \" you could incloude the summery of the movies \"}]},config)\n",
    "\n",
    "for msg in response['messages']:\n",
    "    print(msg.content)"
   ]
  },
  {
   "cell_type": "code",
   "execution_count": null,
   "id": "753f514d",
   "metadata": {},
   "outputs": [],
   "source": [
    "response = agent.invoke({\"messages\": [{\"role\": \"user\", \"content\": \" delete document with lord of the ring title \"}]},config)\n",
    "\n",
    "for msg in response['messages']:\n",
    "    print(msg.content)"
   ]
  },
  {
   "cell_type": "code",
   "execution_count": 9,
   "id": "36b7e02b",
   "metadata": {},
   "outputs": [
    {
     "name": "stdout",
     "output_type": "stream",
     "text": [
      " give me all my documents \n",
      "\n",
      "[{\"id\": 14, \"title\": \"LOTR\"}, {\"id\": 4, \"title\": \"doc 4\"}, {\"id\": 3, \"title\": \"doc 3\"}, {\"id\": 2, \"title\": \"doc 2\"}, {\"id\": 1, \"title\": \"Title\"}]\n",
      "Here are your recent documents:\n",
      "\n",
      "1. LOTR\n",
      "2. doc 4\n",
      "3. doc 3\n",
      "4. doc 2\n",
      "5. Title\n",
      "\n",
      "If you want details or content from any specific document, let me know which one you'd like to view or manage!\n",
      " in which document talks about sina is a good guy\n",
      "\n",
      "[{\"id\": 16, \"title\": \"normal doc2\"}]\n",
      "The document titled \"normal doc2\" contains information about \"sina is a good guy.\"\n",
      "\n",
      "Would you like to view, edit, or perform any other action with this document?\n",
      " what tool did you use to get this answer\n",
      "To find which document talks about \"sina is a good guy,\" I used the document search tool. Specifically, I used a search function that looks for your query (\"sina is a good guy\") within the titles and content of your documents. This allowed me to quickly identify the relevant document for you.\n"
     ]
    }
   ],
   "source": [
    "response = agent.invoke({\"messages\": [{\"role\": \"user\", \"content\": \" what tool did you use to get this answer\"}]},config)\n",
    "\n",
    "for msg in response['messages']:\n",
    "    print(msg.content)"
   ]
  },
  {
   "cell_type": "code",
   "execution_count": null,
   "id": "5e1bdd88",
   "metadata": {},
   "outputs": [],
   "source": []
  }
 ],
 "metadata": {
  "kernelspec": {
   "display_name": "venv",
   "language": "python",
   "name": "python3"
  },
  "language_info": {
   "codemirror_mode": {
    "name": "ipython",
    "version": 3
   },
   "file_extension": ".py",
   "mimetype": "text/x-python",
   "name": "python",
   "nbconvert_exporter": "python",
   "pygments_lexer": "ipython3",
   "version": "3.12.5"
  }
 },
 "nbformat": 4,
 "nbformat_minor": 5
}

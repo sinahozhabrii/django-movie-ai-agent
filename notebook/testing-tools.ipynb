{
 "cells": [
  {
   "cell_type": "code",
   "execution_count": 1,
   "id": "369191be",
   "metadata": {},
   "outputs": [],
   "source": [
    "import setup\n",
    "setup.init()"
   ]
  },
  {
   "cell_type": "code",
   "execution_count": 2,
   "id": "229410dc",
   "metadata": {},
   "outputs": [],
   "source": [
    "from ai.tools import get_document,documents_list"
   ]
  },
  {
   "cell_type": "code",
   "execution_count": 3,
   "id": "42768362",
   "metadata": {},
   "outputs": [],
   "source": [
    "config = { \"user_id\": 1}\n"
   ]
  },
  {
   "cell_type": "code",
   "execution_count": 4,
   "id": "cc1276cb",
   "metadata": {},
   "outputs": [
    {
     "name": "stdout",
     "output_type": "stream",
     "text": [
      "{'tags': [], 'metadata': {'user_id': 1}, 'callbacks': None, 'recursion_limit': 25, 'configurable': {'user_id': 1}}\n"
     ]
    },
    {
     "data": {
      "text/plain": [
       "[{'id': 1, 'title': 'Title'}, {'id': 2, 'title': 'doc 2'}]"
      ]
     },
     "execution_count": 4,
     "metadata": {},
     "output_type": "execute_result"
    }
   ],
   "source": [
    "\n",
    "documents_list.invoke(None,config)"
   ]
  },
  {
   "cell_type": "code",
   "execution_count": 10,
   "id": "e78a2a90",
   "metadata": {},
   "outputs": [
    {
     "data": {
      "text/plain": [
       "{'id': 2, 'title': 'doc 2'}"
      ]
     },
     "execution_count": 10,
     "metadata": {},
     "output_type": "execute_result"
    }
   ],
   "source": [
    "get_document.invoke({\"document_id\":2},config)"
   ]
  }
 ],
 "metadata": {
  "kernelspec": {
   "display_name": "venv",
   "language": "python",
   "name": "python3"
  },
  "language_info": {
   "codemirror_mode": {
    "name": "ipython",
    "version": 3
   },
   "file_extension": ".py",
   "mimetype": "text/x-python",
   "name": "python",
   "nbconvert_exporter": "python",
   "pygments_lexer": "ipython3",
   "version": "3.12.5"
  }
 },
 "nbformat": 4,
 "nbformat_minor": 5
}

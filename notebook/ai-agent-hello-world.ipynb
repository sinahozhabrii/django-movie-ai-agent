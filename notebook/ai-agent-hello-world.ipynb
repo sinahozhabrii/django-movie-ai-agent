{
 "cells": [
  {
   "cell_type": "code",
   "execution_count": 1,
   "id": "c7fe375b",
   "metadata": {},
   "outputs": [],
   "source": [
    "import setup\n",
    "setup.init()"
   ]
  },
  {
   "cell_type": "code",
   "execution_count": 2,
   "id": "115f1524",
   "metadata": {},
   "outputs": [],
   "source": [
    "from ai.agents import get_document_agent"
   ]
  },
  {
   "cell_type": "code",
   "execution_count": 3,
   "id": "b8629f29",
   "metadata": {},
   "outputs": [],
   "source": [
    "msg = {\"messages\": [{\"role\": \"user\", \"content\": \"what are my recent documents\"}]}"
   ]
  },
  {
   "cell_type": "code",
   "execution_count": 4,
   "id": "126c4a26",
   "metadata": {},
   "outputs": [],
   "source": [
    "agent = get_document_agent()"
   ]
  },
  {
   "cell_type": "code",
   "execution_count": 6,
   "id": "7d38fe9e",
   "metadata": {},
   "outputs": [
    {
     "name": "stdout",
     "output_type": "stream",
     "text": [
      "{'tags': [], 'metadata': {'user_id': 1, 'langgraph_step': 2, 'langgraph_node': 'tools', 'langgraph_triggers': ('__pregel_push',), 'langgraph_path': ('__pregel_push', 0, False), 'langgraph_checkpoint_ns': 'tools:c025c1ce-66f1-61d2-feb5-b41551586fa3', 'checkpoint_ns': 'tools:c025c1ce-66f1-61d2-feb5-b41551586fa3'}, 'callbacks': <langchain_core.callbacks.manager.CallbackManager object at 0x0000025AA7F87BF0>, 'recursion_limit': 25, 'configurable': {'user_id': 1, '__pregel_task_id': 'c025c1ce-66f1-61d2-feb5-b41551586fa3', '__pregel_send': <built-in method extend of collections.deque object at 0x0000025AA8061A80>, '__pregel_read': functools.partial(<function local_read at 0x0000025AA306DB20>, PregelScratchpad(step=2, stop=25, call_counter=<langgraph.pregel.algo.LazyAtomicCounter object at 0x0000025AA335E6B0>, interrupt_counter=<langgraph.pregel.algo.LazyAtomicCounter object at 0x0000025AA7F85C30>, get_null_resume=<function _scratchpad.<locals>.get_null_resume at 0x0000025AA3F35DA0>, resume=[], subgraph_counter=<langgraph.pregel.algo.LazyAtomicCounter object at 0x0000025AA7F85E70>), {'messages': <langgraph.channels.binop.BinaryOperatorAggregate object at 0x0000025AA6510780>, '__start__': <langgraph.channels.ephemeral_value.EphemeralValue object at 0x0000025AA801BE40>, '__pregel_tasks': <langgraph.channels.topic.Topic object at 0x0000025AA8019CC0>, 'branch:to:agent': <langgraph.channels.ephemeral_value.EphemeralValue object at 0x0000025AA8018840>, 'branch:to:tools': <langgraph.channels.ephemeral_value.EphemeralValue object at 0x0000025AA8019E00>}, {'is_last_step': <class 'langgraph.managed.is_last_step.IsLastStepManager'>, 'remaining_steps': <class 'langgraph.managed.is_last_step.RemainingStepsManager'>}, PregelTaskWrites(path=('__pregel_push', 0, False), name='tools', writes=deque([]), triggers=('__pregel_push',))), '__pregel_store': None, '__pregel_checkpointer': None, 'checkpoint_map': {'': '1f06bd56-114f-6ed1-8001-f71c4f681f8e'}, 'checkpoint_id': None, 'checkpoint_ns': 'tools:c025c1ce-66f1-61d2-feb5-b41551586fa3', '__pregel_scratchpad': PregelScratchpad(step=2, stop=25, call_counter=<langgraph.pregel.algo.LazyAtomicCounter object at 0x0000025AA335E6B0>, interrupt_counter=<langgraph.pregel.algo.LazyAtomicCounter object at 0x0000025AA7F85C30>, get_null_resume=<function _scratchpad.<locals>.get_null_resume at 0x0000025AA3F35DA0>, resume=[], subgraph_counter=<langgraph.pregel.algo.LazyAtomicCounter object at 0x0000025AA7F85E70>), '__pregel_previous': None, '__pregel_call': functools.partial(<function _call at 0x0000025AA3097100>, <weakref at 0x0000025AA8040810; to 'PregelExecutableTask' at 0x0000025AA805CDD0>, retry_policy=None, futures=<weakref at 0x0000025AA80407C0; to 'FuturesDict' at 0x0000025AA8040550>, schedule_task=<bound method SyncPregelLoop.accept_push of <langgraph.pregel.loop.SyncPregelLoop object at 0x0000025AA7F86B40>>, submit=<weakref at 0x0000025AA7FF64D0; to 'BackgroundExecutor' at 0x0000025AA3EF7320>)}}\n"
     ]
    },
    {
     "data": {
      "text/plain": [
       "{'messages': [HumanMessage(content='what are my recent documents', additional_kwargs={}, response_metadata={}, id='82c1fe7a-01ad-4952-90c9-7efa8c20e562'),\n",
       "  AIMessage(content='', additional_kwargs={'tool_calls': [{'id': 'call_HEfywLGRXtJnyOYVeV4THqc3', 'function': {'arguments': '{}', 'name': 'documents_list'}, 'type': 'function'}], 'refusal': None}, response_metadata={'token_usage': {'completion_tokens': 11, 'prompt_tokens': 84, 'total_tokens': 95, 'completion_tokens_details': {'accepted_prediction_tokens': 0, 'audio_tokens': 0, 'reasoning_tokens': 0, 'rejected_prediction_tokens': 0}, 'prompt_tokens_details': {'audio_tokens': 0, 'cached_tokens': 0}}, 'model_name': 'gpt-4.1-2025-04-14', 'system_fingerprint': 'fp_b663f05c2c', 'id': 'chatcmpl-ByLc7vawx2g4MtS1FCCgbdPUPslBJ', 'service_tier': None, 'finish_reason': 'tool_calls', 'logprobs': None}, id='run--28249f96-c673-4d9f-9607-30ca9eefbee6-0', tool_calls=[{'name': 'documents_list', 'args': {}, 'id': 'call_HEfywLGRXtJnyOYVeV4THqc3', 'type': 'tool_call'}], usage_metadata={'input_tokens': 84, 'output_tokens': 11, 'total_tokens': 95, 'input_token_details': {'audio': 0, 'cache_read': 0}, 'output_token_details': {'audio': 0, 'reasoning': 0}}),\n",
       "  ToolMessage(content='[{\"id\": 5, \"title\": \"doc 5\"}, {\"id\": 4, \"title\": \"doc 4\"}, {\"id\": 3, \"title\": \"doc 3\"}, {\"id\": 2, \"title\": \"doc 2\"}, {\"id\": 1, \"title\": \"Title\"}]', name='documents_list', id='3e973070-4c5a-4e5e-8ca5-a36cf9d52cb6', tool_call_id='call_HEfywLGRXtJnyOYVeV4THqc3'),\n",
       "  AIMessage(content='Here are your 5 most recent documents:\\n\\n1. doc 5\\n2. doc 4\\n3. doc 3\\n4. doc 2\\n5. Title\\n\\nLet me know if you want to view or manage any of these documents!', additional_kwargs={'refusal': None}, response_metadata={'token_usage': {'completion_tokens': 54, 'prompt_tokens': 172, 'total_tokens': 226, 'completion_tokens_details': {'accepted_prediction_tokens': 0, 'audio_tokens': 0, 'reasoning_tokens': 0, 'rejected_prediction_tokens': 0}, 'prompt_tokens_details': {'audio_tokens': 0, 'cached_tokens': 0}}, 'model_name': 'gpt-4.1-2025-04-14', 'system_fingerprint': 'fp_b663f05c2c', 'id': 'chatcmpl-ByLc8AfB0HkVmV58vcShUBTJKRKAs', 'service_tier': None, 'finish_reason': 'stop', 'logprobs': None}, id='run--d991e27e-97f4-480a-a880-0a696c590fa2-0', usage_metadata={'input_tokens': 172, 'output_tokens': 54, 'total_tokens': 226, 'input_token_details': {'audio': 0, 'cache_read': 0}, 'output_token_details': {'audio': 0, 'reasoning': 0}})]}"
      ]
     },
     "execution_count": 6,
     "metadata": {},
     "output_type": "execute_result"
    }
   ],
   "source": [
    "config = {'configurable' : {'user_id':1}}\n",
    "agent.invoke({\"messages\": [{\"role\": \"user\", \"content\": \"what are my recent documents\"}]},config)"
   ]
  }
 ],
 "metadata": {
  "kernelspec": {
   "display_name": "venv",
   "language": "python",
   "name": "python3"
  },
  "language_info": {
   "codemirror_mode": {
    "name": "ipython",
    "version": 3
   },
   "file_extension": ".py",
   "mimetype": "text/x-python",
   "name": "python",
   "nbconvert_exporter": "python",
   "pygments_lexer": "ipython3",
   "version": "3.12.5"
  }
 },
 "nbformat": 4,
 "nbformat_minor": 5
}

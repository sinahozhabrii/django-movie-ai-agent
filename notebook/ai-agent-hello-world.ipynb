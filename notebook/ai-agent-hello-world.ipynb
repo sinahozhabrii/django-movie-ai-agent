{
 "cells": [
  {
   "cell_type": "code",
   "execution_count": 2,
   "id": "c7fe375b",
   "metadata": {},
   "outputs": [],
   "source": [
    "import setup\n",
    "setup.init()"
   ]
  },
  {
   "cell_type": "code",
   "execution_count": 3,
   "id": "115f1524",
   "metadata": {},
   "outputs": [],
   "source": [
    "from ai.agents import get_document_agent\n",
    "import uuid"
   ]
  },
  {
   "cell_type": "code",
   "execution_count": 4,
   "id": "b8629f29",
   "metadata": {},
   "outputs": [],
   "source": [
    "from langgraph.checkpoint.memory import InMemorySaver\n",
    "\n",
    "checkpointer = InMemorySaver()"
   ]
  },
  {
   "cell_type": "code",
   "execution_count": 5,
   "id": "126c4a26",
   "metadata": {},
   "outputs": [],
   "source": [
    "agent = get_document_agent(checkpointer)"
   ]
  },
  {
   "cell_type": "code",
   "execution_count": 6,
   "id": "7d38fe9e",
   "metadata": {},
   "outputs": [
    {
     "name": "stdout",
     "output_type": "stream",
     "text": [
      "{'tags': [], 'metadata': {'user_id': 1, 'langgraph_step': 2, 'langgraph_node': 'tools', 'langgraph_triggers': ('__pregel_push',), 'langgraph_path': ('__pregel_push', 0, False), 'langgraph_checkpoint_ns': 'tools:0b991b04-6a91-2245-899f-183de69657cd', 'checkpoint_ns': 'tools:0b991b04-6a91-2245-899f-183de69657cd'}, 'callbacks': <langchain_core.callbacks.manager.CallbackManager object at 0x0000029DE6E4BF80>, 'recursion_limit': 25, 'configurable': {'user_id': 1, 'thread_id': <function uuid4 at 0x0000029DE093F2E0>, '__pregel_task_id': '0b991b04-6a91-2245-899f-183de69657cd', '__pregel_send': <built-in method extend of collections.deque object at 0x0000029DE74F98A0>, '__pregel_read': functools.partial(<function local_read at 0x0000029DE65DB420>, PregelScratchpad(step=2, stop=25, call_counter=<langgraph.pregel.algo.LazyAtomicCounter object at 0x0000029DE74B1FF0>, interrupt_counter=<langgraph.pregel.algo.LazyAtomicCounter object at 0x0000029DE74B2320>, get_null_resume=<function _scratchpad.<locals>.get_null_resume at 0x0000029DE68F7380>, resume=[], subgraph_counter=<langgraph.pregel.algo.LazyAtomicCounter object at 0x0000029DE74B1F30>), {'messages': <langgraph.channels.binop.BinaryOperatorAggregate object at 0x0000029DE74BCB40>, '__start__': <langgraph.channels.ephemeral_value.EphemeralValue object at 0x0000029DE74BC880>, '__pregel_tasks': <langgraph.channels.topic.Topic object at 0x0000029DE74BDE00>, 'branch:to:agent': <langgraph.channels.ephemeral_value.EphemeralValue object at 0x0000029DE74BCF40>, 'branch:to:tools': <langgraph.channels.ephemeral_value.EphemeralValue object at 0x0000029DE74BF3C0>}, {'is_last_step': <class 'langgraph.managed.is_last_step.IsLastStepManager'>, 'remaining_steps': <class 'langgraph.managed.is_last_step.RemainingStepsManager'>}, PregelTaskWrites(path=('__pregel_push', 0, False), name='tools', writes=deque([]), triggers=('__pregel_push',))), '__pregel_store': None, '__pregel_checkpointer': <langgraph.checkpoint.memory.InMemorySaver object at 0x0000029DE6F66030>, 'checkpoint_map': {'': '1f06e418-0df3-6e74-8001-38ab94389521'}, 'checkpoint_id': None, 'checkpoint_ns': 'tools:0b991b04-6a91-2245-899f-183de69657cd', '__pregel_scratchpad': PregelScratchpad(step=2, stop=25, call_counter=<langgraph.pregel.algo.LazyAtomicCounter object at 0x0000029DE74B1FF0>, interrupt_counter=<langgraph.pregel.algo.LazyAtomicCounter object at 0x0000029DE74B2320>, get_null_resume=<function _scratchpad.<locals>.get_null_resume at 0x0000029DE68F7380>, resume=[], subgraph_counter=<langgraph.pregel.algo.LazyAtomicCounter object at 0x0000029DE74B1F30>), '__pregel_previous': None, '__pregel_call': functools.partial(<function _call at 0x0000029DE6618A40>, <weakref at 0x0000029DE84EE0C0; to 'PregelExecutableTask' at 0x0000029DE74DD1C0>, retry_policy=None, futures=<weakref at 0x0000029DE84EE110; to 'FuturesDict' at 0x0000029DE84EE080>, schedule_task=<bound method SyncPregelLoop.accept_push of <langgraph.pregel.loop.SyncPregelLoop object at 0x0000029DE74B1580>>, submit=<weakref at 0x0000029DE74F0E50; to 'BackgroundExecutor' at 0x0000029DE6FC6810>)}}\n",
      " is there any duplicate \n",
      "\n",
      "[{\"id\": 5, \"title\": \"doc 5\"}, {\"id\": 4, \"title\": \"doc 4\"}, {\"id\": 3, \"title\": \"doc 3\"}, {\"id\": 2, \"title\": \"doc 2\"}, {\"id\": 1, \"title\": \"Title\"}]\n",
      "I checked your 5 most recent documents, and based on their titles, there do not appear to be any duplicates. If you want me to check for duplicates based on the content of the documents, please let me know!\n"
     ]
    }
   ],
   "source": [
    "config = {'configurable' : {'user_id':1 , 'thread_id':uuid.uuid4}}\n",
    "response = agent.invoke({\"messages\": [{\"role\": \"user\", \"content\": \" is there any duplicate \"}]},config)\n",
    "\n",
    "for msg in response['messages']:\n",
    "    print(msg.content)"
   ]
  }
 ],
 "metadata": {
  "kernelspec": {
   "display_name": "venv",
   "language": "python",
   "name": "python3"
  },
  "language_info": {
   "codemirror_mode": {
    "name": "ipython",
    "version": 3
   },
   "file_extension": ".py",
   "mimetype": "text/x-python",
   "name": "python",
   "nbconvert_exporter": "python",
   "pygments_lexer": "ipython3",
   "version": "3.12.5"
  }
 },
 "nbformat": 4,
 "nbformat_minor": 5
}

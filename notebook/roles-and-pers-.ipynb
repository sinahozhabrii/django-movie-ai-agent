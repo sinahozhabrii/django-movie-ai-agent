{
 "cells": [
  {
   "cell_type": "code",
   "execution_count": 1,
   "id": "cb5c4e91",
   "metadata": {},
   "outputs": [],
   "source": [
    "import setup\n",
    "setup.init()"
   ]
  },
  {
   "cell_type": "code",
   "execution_count": 2,
   "id": "e512cdbe",
   "metadata": {},
   "outputs": [],
   "source": [
    "from mypermit import permit\n",
    "from django.contrib.auth import get_user_model\n",
    "permit = permit\n",
    "user = get_user_model()"
   ]
  },
  {
   "cell_type": "code",
   "execution_count": 3,
   "id": "b7d762ff",
   "metadata": {},
   "outputs": [],
   "source": [
    "resources = [\n",
    "    {\n",
    "        \"name\": \"Document\",\n",
    "        \"key\": \"document\",\n",
    "        \"actions\": {\n",
    "            \"read\": {},\n",
    "            \"create\": {},\n",
    "            \"update\": {},\n",
    "            \"delete\": {},\n",
    "        }\n",
    "    },\n",
    "    {\n",
    "        \"name\": \"Movie Discovery Resource\",\n",
    "        \"key\": \"movie_disovery\",\n",
    "        \"actions\": {\n",
    "            \"search\": {},\n",
    "            \"detail\": {},\n",
    "        }\n",
    "    }\n",
    "]"
   ]
  },
  {
   "cell_type": "code",
   "execution_count": 7,
   "id": "97365e4a",
   "metadata": {},
   "outputs": [
    {
     "name": "stdout",
     "output_type": "stream",
     "text": [
      "key='1' id=UUID('e21def4e-0bb0-46fc-9b28-513e781b2174') organization_id=UUID('570e5be9-34dd-412c-a3aa-019bad5af7e0') project_id=UUID('fb7a8584-060a-4dde-a4f7-fa371fda3900') environment_id=UUID('a6c9c17f-ba2c-4b68-90e0-9986b3ed740a') associated_tenants=[] roles=[] created_at=datetime.datetime(2025, 8, 3, 0, 1, 54, tzinfo=datetime.timezone.utc) updated_at=datetime.datetime(2025, 8, 3, 0, 3, 37, tzinfo=datetime.timezone.utc) email=None first_name='sina' last_name=None attributes=None\n"
     ]
    }
   ],
   "source": [
    "for u in user.objects.all():\n",
    "    user_data = {\n",
    "        \"key\":f'{u.id}',\n",
    "        'first_name':f\"{u.username}\"\n",
    "    }\n",
    "    response = await permit.api.users.sync(user_data)\n",
    "    print(response)"
   ]
  },
  {
   "cell_type": "code",
   "execution_count": null,
   "id": "fd96ca1d",
   "metadata": {},
   "outputs": [],
   "source": [
    "\n",
    "\n",
    "for resource in resources:\n",
    "    \n",
    "    await permit.api.resources.create(resource)\n",
    "    \n",
    "permit.check"
   ]
  },
  {
   "cell_type": "code",
   "execution_count": null,
   "id": "669d8c76",
   "metadata": {},
   "outputs": [],
   "source": []
  }
 ],
 "metadata": {
  "kernelspec": {
   "display_name": "venv",
   "language": "python",
   "name": "python3"
  },
  "language_info": {
   "codemirror_mode": {
    "name": "ipython",
    "version": 3
   },
   "file_extension": ".py",
   "mimetype": "text/x-python",
   "name": "python",
   "nbconvert_exporter": "python",
   "pygments_lexer": "ipython3",
   "version": "3.12.5"
  }
 },
 "nbformat": 4,
 "nbformat_minor": 5
}

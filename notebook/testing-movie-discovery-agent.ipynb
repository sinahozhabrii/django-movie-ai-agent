{
 "cells": [
  {
   "cell_type": "code",
   "execution_count": 1,
   "id": "cb589ef8",
   "metadata": {},
   "outputs": [],
   "source": [
    "import setup\n",
    "setup.init()"
   ]
  },
  {
   "cell_type": "code",
   "execution_count": 2,
   "id": "09535689",
   "metadata": {},
   "outputs": [],
   "source": [
    "from ai.agents import get_document_agent,get_movie_discovery_agent"
   ]
  },
  {
   "cell_type": "code",
   "execution_count": 3,
   "id": "4c5a7c78",
   "metadata": {},
   "outputs": [],
   "source": [
    "from langgraph.checkpoint.memory import InMemorySaver\n",
    "import uuid\n",
    "checkpointer = InMemorySaver()"
   ]
  },
  {
   "cell_type": "code",
   "execution_count": 4,
   "id": "a874d31b",
   "metadata": {},
   "outputs": [],
   "source": [
    "agent = get_movie_discovery_agent(checkpointer=checkpointer)"
   ]
  },
  {
   "cell_type": "code",
   "execution_count": 5,
   "id": "3d90f031",
   "metadata": {},
   "outputs": [],
   "source": [
    "config = {'configurable' : {'user_id':1 , 'thread_id':uuid.uuid4}}"
   ]
  },
  {
   "cell_type": "code",
   "execution_count": 7,
   "id": "81a5734f",
   "metadata": {},
   "outputs": [
    {
     "name": "stdout",
     "output_type": "stream",
     "text": [
      " what is the movie 28 years later rating \n",
      "\n",
      "[{\"adult\": false, \"backdrop_path\": \"/6WqqEjiycNvDLjbEClM1zCwIbDD.jpg\", \"genre_ids\": [27, 53, 878], \"id\": 1100988, \"original_language\": \"en\", \"original_title\": \"28 Years Later\", \"overview\": \"Twenty-eight years since the rage virus escaped a biological weapons laboratory, now, still in a ruthlessly enforced quarantine, some have found ways to exist amidst the infected. One such group lives on a small island connected to the mainland by a single, heavily-defended causeway. When one member departs on a mission into the dark heart of the mainland, he discovers secrets, wonders, and horrors that have mutated not only the infected but other survivors as well.\", \"popularity\": 187.9685, \"poster_path\": \"/mIg1qCkVxnAlM2TK3RUF0tdEXlE.jpg\", \"release_date\": \"2025-06-18\", \"title\": \"28 Years Later\", \"video\": false, \"vote_average\": 7.0, \"vote_count\": 721}, {\"adult\": false, \"backdrop_path\": null, \"genre_ids\": [27, 878, 53], \"id\": 1273002, \"original_language\": \"en\", \"original_title\": \"28 Years Later Part 3\", \"overview\": \"The third installment in the 28 Days Later sequel trilogy. Details TBA.\", \"popularity\": 10.9804, \"poster_path\": \"/2loBxp99k59RT8PGmdrLssA17q5.jpg\", \"release_date\": \"\", \"title\": \"28 Years Later Part 3\", \"video\": false, \"vote_average\": 0.0, \"vote_count\": 0}, {\"adult\": false, \"backdrop_path\": null, \"genre_ids\": [27, 878, 53], \"id\": 1272837, \"original_language\": \"en\", \"original_title\": \"28 Years Later Part 2: The Bone Temple\", \"overview\": \"The second installment in the 28 Days Later sequel trilogy. Plot TBA.\", \"popularity\": 12.505, \"poster_path\": \"/rQvneDZ7cEwmxTIX4CpVXDsb2Vp.jpg\", \"release_date\": \"2026-01-15\", \"title\": \"28 Years Later Part 2: The Bone Temple\", \"video\": false, \"vote_average\": 0.0, \"vote_count\": 0}, {\"adult\": false, \"backdrop_path\": null, \"genre_ids\": [], \"id\": 641724, \"original_language\": \"lv\", \"original_title\": \"28 dienas vēlāk\", \"overview\": \"A zombie movie about the fate of several musical beings in the time of prolonged apocalypse. After watching this movie, you will probably acquire an ability to go through the eye of the needle.\", \"popularity\": 0.2406, \"poster_path\": \"/5GLXHflmiH37hO1XfeMGlSf6neK.jpg\", \"release_date\": \"2019-01-01\", \"title\": \"28 Years Later\", \"video\": false, \"vote_average\": 0.0, \"vote_count\": 0}, {\"adult\": false, \"backdrop_path\": null, \"genre_ids\": [], \"id\": 1312850, \"original_language\": \"en\", \"original_title\": \"Red Dwarf: The 28-Years-Later Affair - Series XII\", \"overview\": \"A documentary of the making of the twelfth series of Red Dwarf (1988).\", \"popularity\": 0.4043, \"poster_path\": \"/xekW8hXwuA1sIScC2uhVVaY16TB.jpg\", \"release_date\": \"2017-11-20\", \"title\": \"Red Dwarf: The 28-Years-Later Affair - Series XII\", \"video\": false, \"vote_average\": 0.0, \"vote_count\": 0}]\n",
      "The movie \"28 Years Later\" has a rating of **7.0** based on 721 votes. It is set to be released on **June 18, 2025**. \n",
      "\n",
      "Here’s a brief overview of the film:\n",
      "- **Overview**: Twenty-eight years since the rage virus escaped a biological weapons laboratory, some survivors have found ways to exist amidst the infected. One group lives on a small island connected to the mainland by a heavily-defended causeway. When one member departs on a mission into the mainland, he discovers secrets, wonders, and horrors that have mutated not only the infected but other survivors as well.\n",
      "\n",
      "![28 Years Later](https://image.tmdb.org/t/p/w500/mIg1qCkVxnAlM2TK3RUF0tdEXlE.jpg)\n",
      " what tool did you use for getting this info \n",
      "I used the \"search_movie\" tool from The Movie Database API to find information about the movie \"28 Years Later.\" This tool allows me to search for movies by title and retrieve details such as ratings, release dates, and overviews.\n"
     ]
    }
   ],
   "source": [
    "response = agent.invoke({\"messages\": [{\"role\": \"user\", \"content\": \" what tool did you use for getting this info \"}]},config)\n",
    "\n",
    "for msg in response['messages']:\n",
    "    print(msg.content)"
   ]
  }
 ],
 "metadata": {
  "kernelspec": {
   "display_name": "venv",
   "language": "python",
   "name": "python3"
  },
  "language_info": {
   "codemirror_mode": {
    "name": "ipython",
    "version": 3
   },
   "file_extension": ".py",
   "mimetype": "text/x-python",
   "name": "python",
   "nbconvert_exporter": "python",
   "pygments_lexer": "ipython3",
   "version": "3.12.5"
  }
 },
 "nbformat": 4,
 "nbformat_minor": 5
}

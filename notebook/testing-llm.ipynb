{
 "cells": [
  {
   "cell_type": "code",
   "execution_count": 1,
   "id": "2881c571",
   "metadata": {},
   "outputs": [],
   "source": [
    "import setup\n",
    "setup.init()"
   ]
  },
  {
   "cell_type": "code",
   "execution_count": 2,
   "id": "72605763",
   "metadata": {},
   "outputs": [],
   "source": [
    "from ai.llms import get_openai_model"
   ]
  },
  {
   "cell_type": "code",
   "execution_count": 3,
   "id": "a6eead00",
   "metadata": {},
   "outputs": [],
   "source": [
    "model = get_openai_model()"
   ]
  },
  {
   "cell_type": "code",
   "execution_count": 4,
   "id": "748c167f",
   "metadata": {},
   "outputs": [
    {
     "data": {
      "text/plain": [
       "AIMessage(content='I can help you with a wide range of topics and tasks! Here are some examples:\\n\\n**Information & Research**\\n- Answering questions on science, history, technology, and more\\n- Summarizing articles or documents\\n- Explaining complex concepts in simple terms\\n\\n**Writing & Editing**\\n- Writing emails, essays, or reports\\n- Proofreading and editing text\\n- Generating creative stories or poems\\n\\n**Learning & Study Help**\\n- Tutoring in subjects like math, science, or languages\\n- Creating study guides or flashcards\\n- Explaining homework problems\\n\\n**Productivity & Organization**\\n- Making to-do lists or schedules\\n- Offering tips for time management\\n- Helping with goal setting\\n\\n**Technical Help**\\n- Troubleshooting computer or software issues\\n- Explaining programming concepts or code\\n- Recommending apps or tools\\n\\n**Everyday Life**\\n- Giving cooking or recipe ideas\\n- Offering travel tips or itineraries\\n- Suggesting books, movies, or music\\n\\n**Mental Wellness & Motivation**\\n- Providing motivational quotes or advice\\n- Sharing relaxation or mindfulness techniques\\n\\nIf you have a specific question or task in mind, just let me know!', additional_kwargs={'refusal': None}, response_metadata={'token_usage': {'completion_tokens': 238, 'prompt_tokens': 12, 'total_tokens': 250, 'completion_tokens_details': {'accepted_prediction_tokens': 0, 'audio_tokens': 0, 'reasoning_tokens': 0, 'rejected_prediction_tokens': 0}, 'prompt_tokens_details': {'audio_tokens': 0, 'cached_tokens': 0}}, 'model_name': 'gpt-4.1-2025-04-14', 'system_fingerprint': 'fp_b663f05c2c', 'id': 'chatcmpl-ByLW5Bd6WwTRoM8DBdyJBYEHdcmZZ', 'service_tier': None, 'finish_reason': 'stop', 'logprobs': None}, id='run--ceef6f0a-77a3-466b-9ac9-f49c159af54a-0', usage_metadata={'input_tokens': 12, 'output_tokens': 238, 'total_tokens': 250, 'input_token_details': {'audio': 0, 'cache_read': 0}, 'output_token_details': {'audio': 0, 'reasoning': 0}})"
      ]
     },
     "execution_count": 4,
     "metadata": {},
     "output_type": "execute_result"
    }
   ],
   "source": [
    "model.invoke(\"what can help me with\")"
   ]
  }
 ],
 "metadata": {
  "kernelspec": {
   "display_name": "venv",
   "language": "python",
   "name": "python3"
  },
  "language_info": {
   "codemirror_mode": {
    "name": "ipython",
    "version": 3
   },
   "file_extension": ".py",
   "mimetype": "text/x-python",
   "name": "python",
   "nbconvert_exporter": "python",
   "pygments_lexer": "ipython3",
   "version": "3.12.5"
  }
 },
 "nbformat": 4,
 "nbformat_minor": 5
}

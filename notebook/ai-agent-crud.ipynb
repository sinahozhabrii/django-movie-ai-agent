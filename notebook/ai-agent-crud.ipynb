{
 "cells": [
  {
   "cell_type": "code",
   "execution_count": 2,
   "id": "cb589ef8",
   "metadata": {},
   "outputs": [],
   "source": [
    "import setup\n",
    "setup.init()"
   ]
  },
  {
   "cell_type": "code",
   "execution_count": 3,
   "id": "09535689",
   "metadata": {},
   "outputs": [],
   "source": [
    "from ai.agents import get_document_agent"
   ]
  },
  {
   "cell_type": "code",
   "execution_count": 4,
   "id": "4c5a7c78",
   "metadata": {},
   "outputs": [],
   "source": [
    "from langgraph.checkpoint.memory import InMemorySaver\n",
    "import uuid\n",
    "checkpointer = InMemorySaver()"
   ]
  },
  {
   "cell_type": "code",
   "execution_count": 5,
   "id": "a874d31b",
   "metadata": {},
   "outputs": [],
   "source": [
    "agent = get_document_agent(checkpointer)"
   ]
  },
  {
   "cell_type": "code",
   "execution_count": 6,
   "id": "3d90f031",
   "metadata": {},
   "outputs": [],
   "source": [
    "config = {'configurable' : {'user_id':1 , 'thread_id':uuid.uuid4}}"
   ]
  },
  {
   "cell_type": "code",
   "execution_count": 6,
   "id": "81a5734f",
   "metadata": {},
   "outputs": [
    {
     "name": "stdout",
     "output_type": "stream",
     "text": [
      " give me all my documents \n",
      "\n",
      "[{\"id\": 4, \"title\": \"doc 4\"}, {\"id\": 3, \"title\": \"doc 3\"}, {\"id\": 2, \"title\": \"doc 2\"}, {\"id\": 1, \"title\": \"Title\"}]\n",
      "Here are your recent documents:\n",
      "\n",
      "1. doc 4\n",
      "2. doc 3\n",
      "3. doc 2\n",
      "4. Title\n",
      "\n",
      "If you want to view, edit, or delete any of these documents, just let me know which one you'd like to manage!\n"
     ]
    }
   ],
   "source": [
    "response = agent.invoke({\"messages\": [{\"role\": \"user\", \"content\": \" give me all my documents \"}]},config)\n",
    "\n",
    "for msg in response['messages']:\n",
    "    print(msg.content)"
   ]
  },
  {
   "cell_type": "code",
   "execution_count": 9,
   "id": "cf119f01",
   "metadata": {},
   "outputs": [
    {
     "name": "stdout",
     "output_type": "stream",
     "text": [
      " delete document with lord of the ring title \n",
      "\n",
      "[{\"id\": 13, \"title\": \"Lord of the Rings Movie\"}, {\"id\": 4, \"title\": \"doc 4\"}, {\"id\": 3, \"title\": \"doc 3\"}, {\"id\": 2, \"title\": \"doc 2\"}, {\"id\": 1, \"title\": \"Title\"}]\n",
      "\n",
      "{\"message\": \"Success\"}\n",
      "The document titled \"Lord of the Rings Movie\" has been deleted successfully. If you need to manage any other documents, please let me know!\n",
      " create document for moive lord of the rings \n",
      "Could you please provide the content or details you want to include in the document about the movie \"Lord of the Rings\"? For example, do you want a summary, cast information, or any specific details? Let me know so I can create the document as you wish.\n",
      " you could incloude the summery of the movies \n",
      "\n",
      "{'id': 14, 'title': 'Lord of the Rings Movie', 'content': \"The Lord of the Rings is an epic fantasy film trilogy directed by Peter Jackson, based on the novel by J.R.R. Tolkien. The story is set in the fictional world of Middle-earth and follows the quest to destroy the One Ring, a powerful artifact created by the Dark Lord Sauron to conquer the world.\\n\\nThe trilogy consists of three films:\\n1. The Fellowship of the Ring (2001): A young hobbit, Frodo Baggins, inherits the One Ring and sets out on a journey with eight companions to destroy it in the fires of Mount Doom.\\n2. The Two Towers (2002): The fellowship is broken, but the quest continues. Frodo and Sam continue toward Mordor, while Aragorn, Legolas, and Gimli help defend the kingdom of Rohan from Sauron's forces.\\n3. The Return of the King (2003): The final battle for Middle-earth begins. Frodo and Sam reach Mount Doom, and the fate of the world hangs in the balance as the forces of good and evil clash.\\n\\nThe trilogy is renowned for its groundbreaking visual effects, compelling storytelling, and memorable characters. It received critical acclaim and won numerous awards, including multiple Academy Awards.\", 'created_at': datetime.datetime(2025, 7, 31, 20, 30, 16, 819173, tzinfo=datetime.timezone.utc)}\n",
      "A new document titled \"Lord of the Rings Movie\" has been created, including a summary of the film trilogy. If you would like to add more details or make any changes, just let me know!\n"
     ]
    }
   ],
   "source": [
    "response = agent.invoke({\"messages\": [{\"role\": \"user\", \"content\": \" you could incloude the summery of the movies \"}]},config)\n",
    "\n",
    "for msg in response['messages']:\n",
    "    print(msg.content)"
   ]
  },
  {
   "cell_type": "code",
   "execution_count": 7,
   "id": "753f514d",
   "metadata": {},
   "outputs": [
    {
     "name": "stdout",
     "output_type": "stream",
     "text": [
      " delete document with lord of the ring title \n",
      "\n",
      "[{\"id\": 13, \"title\": \"Lord of the Rings Movie\"}, {\"id\": 4, \"title\": \"doc 4\"}, {\"id\": 3, \"title\": \"doc 3\"}, {\"id\": 2, \"title\": \"doc 2\"}, {\"id\": 1, \"title\": \"Title\"}]\n",
      "\n",
      "{\"message\": \"Success\"}\n",
      "The document titled \"Lord of the Rings Movie\" has been deleted successfully. If you need to manage any other documents, please let me know!\n"
     ]
    }
   ],
   "source": [
    "response = agent.invoke({\"messages\": [{\"role\": \"user\", \"content\": \" delete document with lord of the ring title \"}]},config)\n",
    "\n",
    "for msg in response['messages']:\n",
    "    print(msg.content)"
   ]
  },
  {
   "cell_type": "code",
   "execution_count": 10,
   "id": "36b7e02b",
   "metadata": {},
   "outputs": [
    {
     "name": "stdout",
     "output_type": "stream",
     "text": [
      " delete document with lord of the ring title \n",
      "\n",
      "[{\"id\": 13, \"title\": \"Lord of the Rings Movie\"}, {\"id\": 4, \"title\": \"doc 4\"}, {\"id\": 3, \"title\": \"doc 3\"}, {\"id\": 2, \"title\": \"doc 2\"}, {\"id\": 1, \"title\": \"Title\"}]\n",
      "\n",
      "{\"message\": \"Success\"}\n",
      "The document titled \"Lord of the Rings Movie\" has been deleted successfully. If you need to manage any other documents, please let me know!\n",
      " create document for moive lord of the rings \n",
      "Could you please provide the content or details you want to include in the document about the movie \"Lord of the Rings\"? For example, do you want a summary, cast information, or any specific details? Let me know so I can create the document as you wish.\n",
      " you could incloude the summery of the movies \n",
      "\n",
      "{'id': 14, 'title': 'Lord of the Rings Movie', 'content': \"The Lord of the Rings is an epic fantasy film trilogy directed by Peter Jackson, based on the novel by J.R.R. Tolkien. The story is set in the fictional world of Middle-earth and follows the quest to destroy the One Ring, a powerful artifact created by the Dark Lord Sauron to conquer the world.\\n\\nThe trilogy consists of three films:\\n1. The Fellowship of the Ring (2001): A young hobbit, Frodo Baggins, inherits the One Ring and sets out on a journey with eight companions to destroy it in the fires of Mount Doom.\\n2. The Two Towers (2002): The fellowship is broken, but the quest continues. Frodo and Sam continue toward Mordor, while Aragorn, Legolas, and Gimli help defend the kingdom of Rohan from Sauron's forces.\\n3. The Return of the King (2003): The final battle for Middle-earth begins. Frodo and Sam reach Mount Doom, and the fate of the world hangs in the balance as the forces of good and evil clash.\\n\\nThe trilogy is renowned for its groundbreaking visual effects, compelling storytelling, and memorable characters. It received critical acclaim and won numerous awards, including multiple Academy Awards.\", 'created_at': datetime.datetime(2025, 7, 31, 20, 30, 16, 819173, tzinfo=datetime.timezone.utc)}\n",
      "A new document titled \"Lord of the Rings Movie\" has been created, including a summary of the film trilogy. If you would like to add more details or make any changes, just let me know!\n",
      " change document with lord of the ring title. title to lotr \n",
      "\n",
      "{'id': 14, 'title': 'LOTR', 'content': \"The Lord of the Rings is an epic fantasy film trilogy directed by Peter Jackson, based on the novel by J.R.R. Tolkien. The story is set in the fictional world of Middle-earth and follows the quest to destroy the One Ring, a powerful artifact created by the Dark Lord Sauron to conquer the world.\\n\\nThe trilogy consists of three films:\\n1. The Fellowship of the Ring (2001): A young hobbit, Frodo Baggins, inherits the One Ring and sets out on a journey with eight companions to destroy it in the fires of Mount Doom.\\n2. The Two Towers (2002): The fellowship is broken, but the quest continues. Frodo and Sam continue toward Mordor, while Aragorn, Legolas, and Gimli help defend the kingdom of Rohan from Sauron's forces.\\n3. The Return of the King (2003): The final battle for Middle-earth begins. Frodo and Sam reach Mount Doom, and the fate of the world hangs in the balance as the forces of good and evil clash.\\n\\nThe trilogy is renowned for its groundbreaking visual effects, compelling storytelling, and memorable characters. It received critical acclaim and won numerous awards, including multiple Academy Awards.\", 'created_at': datetime.datetime(2025, 7, 31, 20, 30, 16, 819173, tzinfo=datetime.timezone.utc)}\n",
      "The document title has been updated from \"Lord of the Rings Movie\" to \"LOTR\". If you need any further changes or want to manage other documents, just let me know!\n"
     ]
    }
   ],
   "source": [
    "response = agent.invoke({\"messages\": [{\"role\": \"user\", \"content\": \" change document with lord of the ring title. title to lotr \"}]},config)\n",
    "\n",
    "for msg in response['messages']:\n",
    "    print(msg.content)"
   ]
  }
 ],
 "metadata": {
  "kernelspec": {
   "display_name": "venv",
   "language": "python",
   "name": "python3"
  },
  "language_info": {
   "codemirror_mode": {
    "name": "ipython",
    "version": 3
   },
   "file_extension": ".py",
   "mimetype": "text/x-python",
   "name": "python",
   "nbconvert_exporter": "python",
   "pygments_lexer": "ipython3",
   "version": "3.12.5"
  }
 },
 "nbformat": 4,
 "nbformat_minor": 5
}
